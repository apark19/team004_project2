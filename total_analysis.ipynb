{
 "cells": [
  {
   "cell_type": "code",
   "execution_count": 1,
   "metadata": {},
   "outputs": [],
   "source": [
    "import pandas as pd \n",
    "import sklearn\n",
    "import numpy as np\n",
    "import seaborn as sns\n",
    "import matplotlib\n",
    "import matplotlib.pyplot as plt\n",
    "\n",
    "from sklearn.model_selection import train_test_split\n",
    "from sklearn.metrics import confusion_matrix, accuracy_score, roc_auc_score, f1_score\n",
    "\n",
    "from imblearn.metrics import classification_report_imbalanced\n",
    "from imblearn.over_sampling import SMOTE\n",
    "from imblearn.combine import SMOTEENN\n",
    "from imblearn.under_sampling import ClusterCentroids"
   ]
  },
  {
   "cell_type": "code",
   "execution_count": 3,
   "metadata": {},
   "outputs": [],
   "source": [
    "cc_df=pd.read_csv(\"creditcard.csv\")\n",
    "\n",
    "# Split into Train / Test Sets\n",
    "x=cc_df.drop(columns='Class',axis=1)\n",
    "\n",
    "y=cc_df[['Class']].copy()\n",
    "\n",
    "xtrain,xtest,ytrain,ytest=train_test_split(x,y,random_state=1)"
   ]
  },
  {
   "cell_type": "code",
   "execution_count": 4,
   "metadata": {},
   "outputs": [],
   "source": [
    "# Oversampling (Smote) + (Random Forest / MLPC / LR)\n",
    "xsmote,ysmote=SMOTE(random_state=1,sampling_strategy=1.0).fit_resample(xtrain,ytrain)"
   ]
  },
  {
   "cell_type": "code",
   "execution_count": 6,
   "metadata": {},
   "outputs": [
    {
     "name": "stdout",
     "output_type": "stream",
     "text": [
      "                   pre       rec       spe        f1       geo       iba       sup\n",
      "\n",
      "          0       1.00      1.00      0.78      1.00      0.89      0.80     71091\n",
      "          1       0.85      0.78      1.00      0.82      0.89      0.77       111\n",
      "\n",
      "avg / total       1.00      1.00      0.78      1.00      0.89      0.80     71202\n",
      "\n",
      "ACCURACY: 0.9994522625768939\n",
      "AREA UNDER CURVE: 0.891786393305573\n",
      "F1-SCORE: 0.8169014084507041\n"
     ]
    }
   ],
   "source": [
    "from imblearn.ensemble import BalancedRandomForestClassifier\n",
    "brf=BalancedRandomForestClassifier(n_estimators=100,random_state=1)\n",
    "brf.fit(xsmote,ysmote.values.ravel())\n",
    "brf_pred=brf.predict(xtest)\n",
    "brf_f1=f1_score(ytest,brf_pred)\n",
    "brf_auc=roc_auc_score(ytest,brf_pred)\n",
    "print(classification_report_imbalanced(ytest,brf_pred))\n",
    "print(\"ACCURACY: \"+str(accuracy_score(ytest,brf_pred)))\n",
    "print(\"AREA UNDER CURVE: \"+str(brf_auc))\n",
    "print(\"F1-SCORE: \"+str(brf_f1))"
   ]
  },
  {
   "cell_type": "code",
   "execution_count": 9,
   "metadata": {},
   "outputs": [
    {
     "name": "stdout",
     "output_type": "stream",
     "text": [
      "                   pre       rec       spe        f1       geo       iba       sup\n",
      "\n",
      "          0       1.00      0.97      0.91      0.98      0.94      0.89     71091\n",
      "          1       0.04      0.91      0.97      0.08      0.94      0.88       111\n",
      "\n",
      "avg / total       1.00      0.97      0.91      0.98      0.94      0.89     71202\n",
      "\n",
      "ACCURACY: 0.9686385213898486\n",
      "AREA UNDER CURVE: 0.9393200644624876\n",
      "F1-SCORE: 0.08295687885010267\n"
     ]
    }
   ],
   "source": [
    "from sklearn.neural_network import MLPClassifier\n",
    "mlpc=MLPClassifier(hidden_layer_sizes=(100,),max_iter=250)\n",
    "mlpc.fit(xsmote,ysmote.values.ravel())\n",
    "mlpc_pred=mlpc.predict(xtest)\n",
    "mlpc_f1=f1_score(ytest,mlpc_pred)\n",
    "mlpc_auc=roc_auc_score(ytest,mlpc_pred)\n",
    "print(classification_report_imbalanced(ytest,mlpc_pred))\n",
    "print(\"ACCURACY: \"+str(accuracy_score(ytest,mlpc_pred)))\n",
    "print(\"AREA UNDER CURVE: \"+str(mlpc_auc))\n",
    "print(\"F1-SCORE: \"+str(mlpc_f1))"
   ]
  },
  {
   "cell_type": "code",
   "execution_count": 8,
   "metadata": {},
   "outputs": [
    {
     "name": "stdout",
     "output_type": "stream",
     "text": [
      "                   pre       rec       spe        f1       geo       iba       sup\n",
      "\n",
      "          0       1.00      0.99      0.85      0.99      0.92      0.85     71091\n",
      "          1       0.12      0.85      0.99      0.20      0.92      0.83       111\n",
      "\n",
      "avg / total       1.00      0.99      0.85      0.99      0.92      0.85     71202\n",
      "\n",
      "ACCURACY: 0.9896351226089155\n",
      "AREA UNDER CURVE: 0.9183524580410262\n",
      "F1-SCORE: 0.20302375809935205\n"
     ]
    }
   ],
   "source": [
    "from sklearn.linear_model import LogisticRegression\n",
    "model=LogisticRegression(solver='lbfgs', random_state=1, max_iter=1000)\n",
    "model.fit(xsmote,ysmote.values.ravel())\n",
    "lr_pred=model.predict(xtest)\n",
    "lr_f1=f1_score(ytest,lr_pred)\n",
    "lr_auc=roc_auc_score(ytest,lr_pred)\n",
    "print(classification_report_imbalanced(ytest,lr_pred))\n",
    "print(\"ACCURACY: \"+str(accuracy_score(ytest,lr_pred)))\n",
    "print(\"AREA UNDER CURVE: \"+str(lr_auc))\n",
    "print(\"F1-SCORE: \"+str(lr_f1))"
   ]
  },
  {
   "cell_type": "code",
   "execution_count": 11,
   "metadata": {},
   "outputs": [
    {
     "name": "stdout",
     "output_type": "stream",
     "text": [
      "                   pre       rec       spe        f1       geo       iba       sup\n",
      "\n",
      "          0       1.00      1.00      0.77      1.00      0.87      0.78     71091\n",
      "          1       0.43      0.77      1.00      0.55      0.87      0.75       111\n",
      "\n",
      "avg / total       1.00      1.00      0.77      1.00      0.87      0.78     71202\n",
      "\n",
      "ACCURACY: 0.9980337630965422\n",
      "AREA UNDER CURVE: 0.8820810936268589\n",
      "F1-SCORE: 0.5483870967741936\n"
     ]
    }
   ],
   "source": [
    "# Combination Sampling + Decision Tree\n",
    "from sklearn.tree import DecisionTreeClassifier\n",
    "smote_enn=SMOTEENN(random_state=0)\n",
    "xsmtn,ysmtn=smote_enn.fit_resample(xtrain,ytrain)\n",
    "\n",
    "clf=DecisionTreeClassifier(random_state=0)\n",
    "clf.fit(xsmtn,ysmtn.values.ravel())\n",
    "clf_pred=clf.predict(xtest)\n",
    "clf_f1=f1_score(ytest,clf_pred)\n",
    "clf_auc=roc_auc_score(ytest,clf_pred)\n",
    "print(classification_report_imbalanced(ytest,clf_pred))\n",
    "print(\"ACCURACY: \"+str(accuracy_score(ytest,clf_pred)))\n",
    "print(\"AREA UNDER CURVE: \"+str(clf_auc))\n",
    "print(\"F1-SCORE: \"+str(clf_f1))"
   ]
  },
  {
   "cell_type": "code",
   "execution_count": 12,
   "metadata": {},
   "outputs": [
    {
     "name": "stderr",
     "output_type": "stream",
     "text": [
      "/opt/anaconda3/lib/python3.8/site-packages/xgboost/sklearn.py:892: UserWarning: The use of label encoder in XGBClassifier is deprecated and will be removed in a future release. To remove this warning, do the following: 1) Pass option use_label_encoder=False when constructing XGBClassifier object; and 2) Encode your labels (y) as integers starting with 0, i.e. 0, 1, 2, ..., [num_class - 1].\n",
      "  warnings.warn(label_encoder_deprecation_msg, UserWarning)\n"
     ]
    },
    {
     "name": "stdout",
     "output_type": "stream",
     "text": [
      "[16:23:55] WARNING: /private/var/folders/tn/scrc7fy54771ngyq24hw419m0000gn/T/pip-install-fp4t23h0/xgboost/build/temp.macosx-10.9-x86_64-3.8/xgboost/src/learner.cc:1061: Starting in XGBoost 1.3.0, the default evaluation metric used with the objective 'binary:logistic' was changed from 'error' to 'logloss'. Explicitly set eval_metric if you'd like to restore the old behavior.\n",
      "                   pre       rec       spe        f1       geo       iba       sup\n",
      "\n",
      "          0       1.00      1.00      0.77      1.00      0.88      0.79     71091\n",
      "          1       0.75      0.77      1.00      0.76      0.88      0.76       111\n",
      "\n",
      "avg / total       1.00      1.00      0.78      1.00      0.88      0.79     71202\n",
      "\n",
      "ACCURACY: 0.9992556388865481\n",
      "AREA UNDER CURVE: 0.8871904566929254\n",
      "F1-SCORE: 0.7644444444444445\n"
     ]
    }
   ],
   "source": [
    "# No sampling\n",
    "import xgboost as xgb\n",
    "\n",
    "xgb=xgb.XGBClassifier(\n",
    "    learning_rate=0.05,\n",
    "    max_depth=2,\n",
    "    n_estimators=100,\n",
    "    scale_pos_weight=5)\n",
    "xgb.fit(xtrain,ytrain.values.ravel())\n",
    "xgb_pred=xgb.predict(xtest)\n",
    "xgb_f1=f1_score(ytest,xgb_pred)\n",
    "xgb_auc=roc_auc_score(ytest,xgb_pred)\n",
    "print(classification_report_imbalanced(ytest,xgb_pred))\n",
    "print(\"ACCURACY: \"+str(accuracy_score(ytest,xgb_pred)))\n",
    "print(\"AREA UNDER CURVE: \"+str(xgb_auc))\n",
    "print(\"F1-SCORE: \"+str(xgb_f1))"
   ]
  },
  {
   "cell_type": "code",
   "execution_count": 26,
   "metadata": {},
   "outputs": [],
   "source": [
    "from sklearn.metrics import classification_report, accuracy_score\n",
    "from sklearn.ensemble import IsolationForest\n",
    "from sklearn.neighbors import LocalOutlierFactor\n",
    "\n",
    "# define a random state\n",
    "random_state = 42\n",
    "\n",
    "# determine the number of fraud cases\n",
    "fraud = cc_df[cc_df['Class'] == 1]\n",
    "valid = cc_df[cc_df['Class'] == 0]\n",
    "\n",
    "outlier_fraction = len(fraud) / float(len(valid))\n",
    "\n",
    "# get the columns from the dataframe\n",
    "columns = cc_df.columns.tolist()\n",
    "\n",
    "# filter the columns to remove the data we do not want\n",
    "columns = [c for c in columns if c not in ['Class']]\n",
    "\n",
    "# store the variable we will be predicting on which is class\n",
    "target = 'Class'\n",
    "\n",
    "# X includes everything except our class column\n",
    "X = cc_df[columns]\n",
    "# Y includes all the class labels for each sample\n",
    "# this is also one-dimensional\n",
    "Y = cc_df[target]\n",
    "\n",
    "# define the outlier detection methods\n",
    "classifiers = {\n",
    "    # contamination is the number of outliers we think there are\n",
    "    'Isolation Forest': IsolationForest(max_samples = len(X),\n",
    "                                       contamination = outlier_fraction,\n",
    "                                       random_state = random_state),\n",
    "    # number of neighbors to consider, the higher the percentage of outliers the higher you want to make this number\n",
    "    'Local Outlier Factor': LocalOutlierFactor(\n",
    "    n_neighbors = 20,\n",
    "    contamination = outlier_fraction)\n",
    "}\n",
    "\n",
    "n_outliers = len(fraud)\n",
    "\n",
    "for i, (clf_name, clf) in enumerate(classifiers.items()):\n",
    "    \n",
    "    # fit the data and tag outliers\n",
    "    if clf_name == 'Local Outlier Factor':\n",
    "        y_pred = clf.fit_predict(X)\n",
    "        scores_pred = clf.negative_outlier_factor_\n",
    "    else:\n",
    "        clf.fit(X)\n",
    "        scores_pred = clf.decision_function(X)\n",
    "        y_pred = clf.predict(X)\n",
    "        \n",
    "    # reshape the prediction values to 0 for valid and 1 for fraud\n",
    "    y_pred[y_pred == 1] = 0\n",
    "    y_pred[y_pred == -1] = 1\n",
    "\n",
    "    # calculate the number of errors\n",
    "    n_errors = (y_pred != Y).sum()"
   ]
  },
  {
   "cell_type": "code",
   "execution_count": 30,
   "metadata": {},
   "outputs": [
    {
     "data": {
      "text/plain": [
       "Text(0.5, 0, 'AUC Score')"
      ]
     },
     "execution_count": 30,
     "metadata": {},
     "output_type": "execute_result"
    },
    {
     "data": {
      "image/png": "[encoded data removed]",
      "text/plain": [
       "<Figure size 432x288 with 1 Axes>"
      ]
     },
     "metadata": {
      "needs_background": "light"
     },
     "output_type": "display_data"
    }
   ],
   "source": [
    "## Performance Plot\n",
    "import matplotlib.pyplot as plt\n",
    "auc_scores={\n",
    "    'Isolation Forest (Full)': roc_auc_score(Y, y_pred),\n",
    "    'XGboost (Full)':xgb_auc,\n",
    "    'Neural Networks (SMOTE)':mlpc_auc,\n",
    "    'Balanced Random Forest (SMOTE)':brf_auc,\n",
    "    'Decision Tree Classifier (SMOTEENN)':clf_auc,\n",
    "    'Logistic Regression (SMOTE)':lr_auc\n",
    "}\n",
    "\n",
    "f1_scores={\n",
    "    'Isolation Forest (Full)': f1_score(Y, y_pred),\n",
    "    'XGboost (Full)':xgb_f1,\n",
    "    'Neural Networks (SMOTE)':mlpc_f1,\n",
    "    'Balanced Random Forest (SMOTE)':brf_f1,\n",
    "    'Decision Tree Classifier (SMOTEENN)':clf_f1,\n",
    "    'Logistic Regression (SMOTE)':lr_f1\n",
    "}\n",
    "\n",
    "plt.title('AUC Scores')\n",
    "plt.barh(range(len(auc_scores)), list(auc_scores.values()), align='center')\n",
    "plt.yticks(range(len(auc_scores)), list(auc_scores.keys()))\n",
    "plt.xlabel('AUC Score')"
   ]
  },
  {
   "cell_type": "code",
   "execution_count": 31,
   "metadata": {},
   "outputs": [
    {
     "data": {
      "text/plain": [
       "Text(0.5, 0, 'F1 Score')"
      ]
     },
     "execution_count": 31,
     "metadata": {},
     "output_type": "execute_result"
    },
    {
     "data": {
      "image/png": "[encoded data removed]",
      "text/plain": [
       "<Figure size 432x288 with 1 Axes>"
      ]
     },
     "metadata": {
      "needs_background": "light"
     },
     "output_type": "display_data"
    }
   ],
   "source": [
    "plt.title('F1 Scores')\n",
    "plt.barh(range(len(f1_scores)), list(f1_scores.values()), align='center')\n",
    "plt.yticks(range(len(f1_scores)), list(f1_scores.keys()))\n",
    "plt.xlabel('F1 Score')"
   ]
  },
  {
   "cell_type": "code",
   "execution_count": null,
   "metadata": {},
   "outputs": [],
   "source": []
  }
 ],
 "metadata": {
  "kernelspec": {
   "display_name": "Python 3",
   "language": "python",
   "name": "python3"
  },
  "language_info": {
   "codemirror_mode": {
    "name": "ipython",
    "version": 3
   },
   "file_extension": ".py",
   "mimetype": "text/x-python",
   "name": "python",
   "nbconvert_exporter": "python",
   "pygments_lexer": "ipython3",
   "version": "3.8.3"
  }
 },
 "nbformat": 4,
 "nbformat_minor": 4
}
